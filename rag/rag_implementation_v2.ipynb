{
 "cells": [
  {
   "cell_type": "code",
   "execution_count": 5,
   "metadata": {},
   "outputs": [],
   "source": [
    "import torch\n",
    "from transformers import AutoTokenizer, AutoModelForQuestionAnswering, AutoModelForSeq2SeqLM\n",
    "from datasets import load_dataset\n",
    "from sentence_transformers import SentenceTransformer\n",
    "import faiss\n",
    "import numpy as np\n",
    "import pandas as pd\n"
   ]
  },
  {
   "cell_type": "code",
   "execution_count": 6,
   "metadata": {},
   "outputs": [],
   "source": [
    "def preprocess_data(dataset):\n",
    "  \"\"\"Preprocesses the SQuAD v2 dataset.\n",
    "\n",
    "  Args:\n",
    "    dataset: The loaded SQuAD v2 dataset.\n",
    "\n",
    "  Returns:\n",
    "    A preprocessed dataset.\n",
    "  \"\"\"\n",
    "\n",
    "  def preprocess_function(examples):\n",
    "    # Basic preprocessing:\n",
    "    # - Lowercase questions and contexts\n",
    "    # - Remove extra spaces\n",
    "    questions = [q.strip().lower() for q in examples[\"question\"]]\n",
    "    contexts = [c.strip().lower() for c in examples[\"context\"]]\n",
    "    answers = [{\"answer_start\": a[\"answer_start\"], \"text\": a[\"text\"]} for a in examples[\"answers\"]]\n",
    "    return {\"question\": questions, \"answers\": answers, \"context\": contexts}\n",
    "\n",
    "  # Apply preprocessing\n",
    "  dataset = dataset.map(preprocess_function)\n",
    "\n",
    "  # Create a DataFrame for efficient handling\n",
    "  df = pd.DataFrame(dataset['train'])\n",
    "\n",
    "  # Add a unique identifier for each context\n",
    "  df['id'] = range(len(df))\n",
    "\n",
    "  return df\n"
   ]
  },
  {
   "cell_type": "code",
   "execution_count": 7,
   "metadata": {},
   "outputs": [],
   "source": [
    "def create_embeddings(df, model_name='all-MiniLM-L6-v2'):\n",
    "  \"\"\"Creates embeddings for contexts.\n",
    "\n",
    "  Args:\n",
    "    df: The preprocessed dataset as a DataFrame.\n",
    "    model_name: The name of the SentenceTransformer model.\n",
    "\n",
    "  Returns:\n",
    "    A dictionary containing context embeddings and their corresponding IDs.\n",
    "  \"\"\"\n",
    "\n",
    "  model = SentenceTransformer(model_name)\n",
    "  context_embeddings = model.encode(df['context'].tolist())\n",
    "\n",
    "  return {'embeddings': context_embeddings, 'ids': df['id'].tolist()}\n"
   ]
  },
  {
   "cell_type": "code",
   "execution_count": 8,
   "metadata": {},
   "outputs": [],
   "source": [
    "def create_faiss_index(embeddings):\n",
    "  \"\"\"Creates a FAISS index for efficient retrieval.\n",
    "\n",
    "  Args:\n",
    "    embeddings: A dictionary containing context embeddings and their corresponding IDs.\n",
    "\n",
    "  Returns:\n",
    "    A FAISS index.\n",
    "  \"\"\"\n",
    "\n",
    "  dimension = embeddings['embeddings'].shape[1]\n",
    "  index = faiss.IndexFlatL2(dimension)\n",
    "  index.add(embeddings['embeddings'])\n",
    "\n",
    "  return index\n"
   ]
  },
  {
   "cell_type": "code",
   "execution_count": 9,
   "metadata": {},
   "outputs": [],
   "source": [
    "def retrieve_relevant_contexts(query, index, embeddings, top_k=5):\n",
    "  \"\"\"Retrieves relevant contexts for a given query.\n",
    "\n",
    "  Args:\n",
    "    query: The query string.\n",
    "    index: The FAISS index.\n",
    "    embeddings: A dictionary containing context embeddings and their corresponding IDs.\n",
    "    top_k: The number of top results to return.\n",
    "\n",
    "  Returns:\n",
    "    A list of relevant context IDs.\n",
    "  \"\"\"\n",
    "\n",
    "  model = SentenceTransformer('all-MiniLM-L6-v2')\n",
    "  query_embedding = model.encode([query])[0]\n",
    "  distances, indices = index.search(query_embedding.reshape(1, -1), top_k)\n",
    "  relevant_ids = embeddings['ids'][indices[0]]\n",
    "  return relevant_ids\n"
   ]
  },
  {
   "cell_type": "code",
   "execution_count": 10,
   "metadata": {},
   "outputs": [],
   "source": [
    "def load_language_model(model_name='facebook/bart-large-cnn'):\n",
    "  \"\"\"Loads a language model for answer generation.\n",
    "\n",
    "  Args:\n",
    "    model_name: The name of the language model.\n",
    "\n",
    "  Returns:\n",
    "    A tuple of tokenizer and model.\n",
    "  \"\"\"\n",
    "\n",
    "  tokenizer = AutoTokenizer.from_pretrained(model_name)\n",
    "  model = AutoModelForSeq2SeqLM.from_pretrained(model_name)\n",
    "  return tokenizer, model\n"
   ]
  },
  {
   "cell_type": "code",
   "execution_count": 11,
   "metadata": {},
   "outputs": [],
   "source": [
    "def generate_answer(query, relevant_contexts, df, tokenizer, model):\n",
    "  \"\"\"Generates an answer based on the query and relevant contexts.\n",
    "\n",
    "  Args:\n",
    "    query: The query string.\n",
    "    relevant_contexts: A list of relevant context IDs.\n",
    "    df: The preprocessed dataset as a DataFrame.\n",
    "    tokenizer: The tokenizer for the language model.\n",
    "    model: The language model.\n",
    "\n",
    "  Returns:\n",
    "    The generated answer.\n",
    "  \"\"\"\n",
    "\n",
    "  # Retrieve relevant contexts from the DataFrame\n",
    "  relevant_texts = df[df['id'].isin(relevant_contexts)]['context'].tolist()\n",
    "\n",
    "  # Combine query and relevant contexts into a single input\n",
    "  input_text = f\"{query} {' '.join(relevant_texts)}\"\n",
    "  input_ids = tokenizer.encode(input_text, return_tensors=\"pt\")\n",
    "\n",
    "  # Generate answer using the language model\n",
    "  output = model.generate(input_ids, max_length=128, num_beams=4, early_stopping=True)\n",
    "  generated_answer = tokenizer.decode(output[0], skip_special_tokens=True)\n",
    "  return generated_answer\n"
   ]
  },
  {
   "cell_type": "code",
   "execution_count": 12,
   "metadata": {},
   "outputs": [],
   "source": [
    "def rag(query, df, index, embeddings, tokenizer, model, top_k=5):\n",
    "  \"\"\"Implements the RAG pipeline.\n",
    "\n",
    "  Args:\n",
    "    query: The query string.\n",
    "    df: The preprocessed dataset as a DataFrame.\n",
    "    index: The FAISS index.\n",
    "    embeddings: A dictionary containing context embeddings and their corresponding IDs.\n",
    "    tokenizer: The tokenizer for the language model.\n",
    "    model: The language model.\n",
    "    top_k: The number of top results to return.\n",
    "\n",
    "  Returns:\n",
    "    The generated answer.\n",
    "  \"\"\"\n",
    "\n",
    "  relevant_ids = retrieve_relevant_contexts(query, index, embeddings, top_k)\n",
    "  answer = generate_answer(query, relevant_ids, df, tokenizer, model)\n",
    "  return answer\n"
   ]
  },
  {
   "cell_type": "code",
   "execution_count": 13,
   "metadata": {},
   "outputs": [],
   "source": [
    "import pandas as pd\n",
    "import numpy as np\n",
    "\n",
    "# Assuming necessary imports and data loading\n",
    "\n",
    "# Example DataFrame\n",
    "df = pd.DataFrame({'id': [1, 2, 3], 'context': ['context1', 'context2', 'context3']})\n",
    "\n",
    "# Example embeddings\n",
    "embeddings = {'embeddings': np.random.rand(3, 768), 'ids': [1, 2, 3]}\n",
    "\n",
    "# Example FAISS index\n",
    "index = faiss.IndexFlatL2(768)\n",
    "index.add(embeddings['embeddings'])\n",
    "\n",
    "# Example tokenizer and model\n",
    "from transformers import AutoTokenizer, AutoModelForSeq2SeqLM\n",
    "tokenizer = AutoTokenizer.from_pretrained(\"facebook/bart-large-cnn\")\n",
    "model = AutoModelForSeq2SeqLM.from_pretrained(\"facebook/bart-large-cnn\")\n"
   ]
  },
  {
   "cell_type": "code",
   "execution_count": 14,
   "metadata": {},
   "outputs": [
    {
     "ename": "AssertionError",
     "evalue": "",
     "output_type": "error",
     "traceback": [
      "\u001b[0;31m---------------------------------------------------------------------------\u001b[0m",
      "\u001b[0;31mAssertionError\u001b[0m                            Traceback (most recent call last)",
      "Cell \u001b[0;32mIn[14], line 2\u001b[0m\n\u001b[1;32m      1\u001b[0m query \u001b[38;5;241m=\u001b[39m \u001b[38;5;124m\"\u001b[39m\u001b[38;5;124mWho is the capital of France?\u001b[39m\u001b[38;5;124m\"\u001b[39m\n\u001b[0;32m----> 2\u001b[0m answer \u001b[38;5;241m=\u001b[39m \u001b[43mrag\u001b[49m\u001b[43m(\u001b[49m\u001b[43mquery\u001b[49m\u001b[43m,\u001b[49m\u001b[43m \u001b[49m\u001b[43mdf\u001b[49m\u001b[43m,\u001b[49m\u001b[43m \u001b[49m\u001b[43mindex\u001b[49m\u001b[43m,\u001b[49m\u001b[43m \u001b[49m\u001b[43membeddings\u001b[49m\u001b[43m,\u001b[49m\u001b[43m \u001b[49m\u001b[43mtokenizer\u001b[49m\u001b[43m,\u001b[49m\u001b[43m \u001b[49m\u001b[43mmodel\u001b[49m\u001b[43m)\u001b[49m\n\u001b[1;32m      3\u001b[0m \u001b[38;5;28mprint\u001b[39m(answer)\n",
      "Cell \u001b[0;32mIn[12], line 17\u001b[0m, in \u001b[0;36mrag\u001b[0;34m(query, df, index, embeddings, tokenizer, model, top_k)\u001b[0m\n\u001b[1;32m      1\u001b[0m \u001b[38;5;28;01mdef\u001b[39;00m \u001b[38;5;21mrag\u001b[39m(query, df, index, embeddings, tokenizer, model, top_k\u001b[38;5;241m=\u001b[39m\u001b[38;5;241m5\u001b[39m):\n\u001b[1;32m      2\u001b[0m \u001b[38;5;250m  \u001b[39m\u001b[38;5;124;03m\"\"\"Implements the RAG pipeline.\u001b[39;00m\n\u001b[1;32m      3\u001b[0m \n\u001b[1;32m      4\u001b[0m \u001b[38;5;124;03m  Args:\u001b[39;00m\n\u001b[0;32m   (...)\u001b[0m\n\u001b[1;32m     14\u001b[0m \u001b[38;5;124;03m    The generated answer.\u001b[39;00m\n\u001b[1;32m     15\u001b[0m \u001b[38;5;124;03m  \"\"\"\u001b[39;00m\n\u001b[0;32m---> 17\u001b[0m   relevant_ids \u001b[38;5;241m=\u001b[39m \u001b[43mretrieve_relevant_contexts\u001b[49m\u001b[43m(\u001b[49m\u001b[43mquery\u001b[49m\u001b[43m,\u001b[49m\u001b[43m \u001b[49m\u001b[43mindex\u001b[49m\u001b[43m,\u001b[49m\u001b[43m \u001b[49m\u001b[43membeddings\u001b[49m\u001b[43m,\u001b[49m\u001b[43m \u001b[49m\u001b[43mtop_k\u001b[49m\u001b[43m)\u001b[49m\n\u001b[1;32m     18\u001b[0m   answer \u001b[38;5;241m=\u001b[39m generate_answer(query, relevant_ids, df, tokenizer, model)\n\u001b[1;32m     19\u001b[0m   \u001b[38;5;28;01mreturn\u001b[39;00m answer\n",
      "Cell \u001b[0;32mIn[9], line 16\u001b[0m, in \u001b[0;36mretrieve_relevant_contexts\u001b[0;34m(query, index, embeddings, top_k)\u001b[0m\n\u001b[1;32m     14\u001b[0m model \u001b[38;5;241m=\u001b[39m SentenceTransformer(\u001b[38;5;124m'\u001b[39m\u001b[38;5;124mall-MiniLM-L6-v2\u001b[39m\u001b[38;5;124m'\u001b[39m)\n\u001b[1;32m     15\u001b[0m query_embedding \u001b[38;5;241m=\u001b[39m model\u001b[38;5;241m.\u001b[39mencode([query])[\u001b[38;5;241m0\u001b[39m]\n\u001b[0;32m---> 16\u001b[0m distances, indices \u001b[38;5;241m=\u001b[39m \u001b[43mindex\u001b[49m\u001b[38;5;241;43m.\u001b[39;49m\u001b[43msearch\u001b[49m\u001b[43m(\u001b[49m\u001b[43mquery_embedding\u001b[49m\u001b[38;5;241;43m.\u001b[39;49m\u001b[43mreshape\u001b[49m\u001b[43m(\u001b[49m\u001b[38;5;241;43m1\u001b[39;49m\u001b[43m,\u001b[49m\u001b[43m \u001b[49m\u001b[38;5;241;43m-\u001b[39;49m\u001b[38;5;241;43m1\u001b[39;49m\u001b[43m)\u001b[49m\u001b[43m,\u001b[49m\u001b[43m \u001b[49m\u001b[43mtop_k\u001b[49m\u001b[43m)\u001b[49m\n\u001b[1;32m     17\u001b[0m relevant_ids \u001b[38;5;241m=\u001b[39m embeddings[\u001b[38;5;124m'\u001b[39m\u001b[38;5;124mids\u001b[39m\u001b[38;5;124m'\u001b[39m][indices[\u001b[38;5;241m0\u001b[39m]]\n\u001b[1;32m     18\u001b[0m \u001b[38;5;28;01mreturn\u001b[39;00m relevant_ids\n",
      "File \u001b[0;32m/opt/anaconda3/envs/rag_vs_crag/lib/python3.10/site-packages/faiss/class_wrappers.py:329\u001b[0m, in \u001b[0;36mhandle_Index.<locals>.replacement_search\u001b[0;34m(self, x, k, params, D, I)\u001b[0m\n\u001b[1;32m    327\u001b[0m n, d \u001b[38;5;241m=\u001b[39m x\u001b[38;5;241m.\u001b[39mshape\n\u001b[1;32m    328\u001b[0m x \u001b[38;5;241m=\u001b[39m np\u001b[38;5;241m.\u001b[39mascontiguousarray(x, dtype\u001b[38;5;241m=\u001b[39m\u001b[38;5;124m'\u001b[39m\u001b[38;5;124mfloat32\u001b[39m\u001b[38;5;124m'\u001b[39m)\n\u001b[0;32m--> 329\u001b[0m \u001b[38;5;28;01massert\u001b[39;00m d \u001b[38;5;241m==\u001b[39m \u001b[38;5;28mself\u001b[39m\u001b[38;5;241m.\u001b[39md\n\u001b[1;32m    331\u001b[0m \u001b[38;5;28;01massert\u001b[39;00m k \u001b[38;5;241m>\u001b[39m \u001b[38;5;241m0\u001b[39m\n\u001b[1;32m    333\u001b[0m \u001b[38;5;28;01mif\u001b[39;00m D \u001b[38;5;129;01mis\u001b[39;00m \u001b[38;5;28;01mNone\u001b[39;00m:\n",
      "\u001b[0;31mAssertionError\u001b[0m: "
     ]
    }
   ],
   "source": [
    "query = \"Who is the capital of France?\"\n",
    "answer = rag(query, df, index, embeddings, tokenizer, model)\n",
    "print(answer)"
   ]
  },
  {
   "cell_type": "code",
   "execution_count": null,
   "metadata": {},
   "outputs": [],
   "source": []
  }
 ],
 "metadata": {
  "kernelspec": {
   "display_name": "rag_vs_crag",
   "language": "python",
   "name": "python3"
  },
  "language_info": {
   "codemirror_mode": {
    "name": "ipython",
    "version": 3
   },
   "file_extension": ".py",
   "mimetype": "text/x-python",
   "name": "python",
   "nbconvert_exporter": "python",
   "pygments_lexer": "ipython3",
   "version": "3.10.14"
  }
 },
 "nbformat": 4,
 "nbformat_minor": 2
}
